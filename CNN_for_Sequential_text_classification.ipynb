{
  "nbformat": 4,
  "nbformat_minor": 0,
  "metadata": {
    "kernelspec": {
      "display_name": "Python 3",
      "language": "python",
      "name": "python3"
    },
    "language_info": {
      "codemirror_mode": {
        "name": "ipython",
        "version": 3
      },
      "file_extension": ".py",
      "mimetype": "text/x-python",
      "name": "python",
      "nbconvert_exporter": "python",
      "pygments_lexer": "ipython3",
      "version": "3.5.6"
    },
    "colab": {
      "name": "CNN for Sequential text classification.ipynb",
      "provenance": [],
      "include_colab_link": true
    }
  },
  "cells": [
    {
      "cell_type": "markdown",
      "metadata": {
        "id": "view-in-github",
        "colab_type": "text"
      },
      "source": [
        "<a href=\"https://colab.research.google.com/github/RinzlerTron/CNN-for-Sequential-Text/blob/master/CNN_for_Sequential_text_classification.ipynb\" target=\"_parent\"><img src=\"https://colab.research.google.com/assets/colab-badge.svg\" alt=\"Open In Colab\"/></a>"
      ]
    },
    {
      "cell_type": "markdown",
      "metadata": {
        "id": "2fZcEJTUl6Jz",
        "colab_type": "text"
      },
      "source": [
        "# CNN for Sequential text classification\n",
        "\n",
        "\n",
        "Brief about data used for this study: \n",
        "- train.tsv and test.tsv are used for training and testing. The training data is tab separated tokenized sequential data and is labelled. For example, the tokenized data wr4pi, pze1d, etc. are actually words of a text document. \n",
        "- Each token is a length of 5 (alpha-numeric letters)."
      ]
    },
    {
      "cell_type": "markdown",
      "metadata": {
        "id": "SVB7RbFGl6J1",
        "colab_type": "text"
      },
      "source": [
        "## Preparing the data"
      ]
    },
    {
      "cell_type": "code",
      "metadata": {
        "id": "dNUKyWLgl6J2",
        "colab_type": "code",
        "colab": {}
      },
      "source": [
        "import pandas as pd\n",
        "import tensorflow as tf\n",
        "import numpy as np\n",
        "import matplotlib.pyplot as plt\n",
        "from keras.preprocessing import text\n",
        "from keras.preprocessing import sequence\n",
        "from keras.preprocessing.text import Tokenizer\n",
        "from sklearn.model_selection import train_test_split\n",
        "from sklearn.preprocessing import LabelBinarizer\n",
        "from keras.layers.embeddings import Embedding\n",
        "from keras.callbacks import EarlyStopping\n",
        "from keras.layers import Input, Dense\n",
        "from keras.models import Model\n",
        "from keras.layers import Dropout\n",
        "from keras.layers import Conv1D\n",
        "from keras.layers import MaxPooling1D\n",
        "from keras.layers import Flatten\n",
        "from keras.layers import Concatenate\n",
        "from keras.layers import BatchNormalization\n",
        "from sklearn.metrics import confusion_matrix\n",
        "from sklearn.metrics import accuracy_score\n",
        "from sklearn.metrics import classification_report\n",
        "from numpy.random import seed\n",
        "from tensorflow import set_random_seed\n",
        "\n",
        "seed(1)\n",
        "set_random_seed(2)\n",
        "\n",
        "def tsv_to_df(input_file, column_names):\n",
        "    \"\"\"Reads a tab seperated value file to dataframe\"\"\"\n",
        "    return pd.read_csv(input_file, sep = '\\t', names = column_names)\n",
        "\n",
        "def dedup_df(duplicated_input_df):\n",
        "    \"\"\"De-duplicate sequences and remove sequences occuring between multiple classes\"\"\"\n",
        "    # Duplicates based on sequence column; contains same sequences between classes\n",
        "    duplicate_sequences_df = duplicated_input_df[duplicated_input_df.duplicated(\n",
        "                                subset = 'sequence', \n",
        "                                keep = False)].sort_values('sequence')\n",
        "    # Duplicate rows based on both columns, does not contain same sequences between classes\n",
        "    duplicate_rows_df = duplicate_sequences_df[duplicate_sequences_df.duplicated(\n",
        "                        keep = False)].sort_values('sequence')\n",
        "    # Print removed items that occur between classes\n",
        "    print('Removed unusable sequences from training data:')\n",
        "    print(duplicate_sequences_df[~duplicate_sequences_df.isin(duplicate_rows_df)].dropna())\n",
        "    # Drop all duplicate rows in original\n",
        "    deduplicated_input_df = duplicated_input_df.drop_duplicates(keep = False)\n",
        "    # Drop last occuring duplicates in duplicate_rows_df\n",
        "    duplicate_rows_df = duplicate_rows_df.drop_duplicates(keep='last')\n",
        "    # append only these occurences back to input\n",
        "    return deduplicated_input_df.append(duplicate_rows_df).reset_index(drop=True)\n",
        "\n",
        "\n",
        "# Prepare Train and Test data\n",
        "train_df = dedup_df(tsv_to_df('train.tsv', ['label', 'sequence']))\n",
        "test_df = tsv_to_df('test.tsv', ['sequence'])\n"
      ],
      "execution_count": 0,
      "outputs": []
    },
    {
      "cell_type": "markdown",
      "metadata": {
        "id": "kaM5wjlol6J6",
        "colab_type": "text"
      },
      "source": [
        "## EDA"
      ]
    },
    {
      "cell_type": "code",
      "metadata": {
        "id": "pBeknYz8l6J7",
        "colab_type": "code",
        "outputId": "f42d266b-39de-4cfc-abbd-1f6e0b6ca891",
        "colab": {}
      },
      "source": [
        "def filter_test_data(original_test_df, deduped_train_df):\n",
        "    \"\"\"Filter out sequences present in raw test data that's already in training data\"\"\"\n",
        "    preexisting_in_both = pd.merge(original_test_df, deduped_train_df, how = 'left', on=['sequence'])\n",
        "    return preexisting_in_both.loc[preexisting_in_both['label'].notnull()]\n",
        "\n",
        "already_tagged_test = filter_test_data(test_df, train_df)\n",
        "to_predict_test = test_df[~test_df.isin(already_tagged_test)].dropna()\n",
        "print('{} rows present in testing set were already tagged in training set \\n'\n",
        "      'these will be separated from set to predict, ' \n",
        "      'and joined with the final prediction results'.format(len(already_tagged_test)))"
      ],
      "execution_count": 0,
      "outputs": [
        {
          "output_type": "stream",
          "text": [
            "12 rows present in testing set were already tagged in training set \n",
            "these will be separated from set to predict, and joined with the final prediction results\n"
          ],
          "name": "stdout"
        }
      ]
    },
    {
      "cell_type": "code",
      "metadata": {
        "id": "ylxP0ZvSl6J-",
        "colab_type": "code",
        "outputId": "553a363e-2f86-44fb-8d4d-d8e3279700da",
        "colab": {}
      },
      "source": [
        "# Visualize distribution of classes\n",
        "train_df.groupby(['label']).size().plot(title='Visualize Distribution of Classes in Training Data', kind='bar')"
      ],
      "execution_count": 0,
      "outputs": [
        {
          "output_type": "execute_result",
          "data": {
            "text/plain": [
              "<matplotlib.axes._subplots.AxesSubplot at 0x7f9d0148e3c8>"
            ]
          },
          "metadata": {
            "tags": []
          },
          "execution_count": 66
        },
        {
          "output_type": "stream",
          "text": [
            "/usr/local/envs/py3env/lib/python3.5/site-packages/matplotlib/font_manager.py:1320: UserWarning: findfont: Font family ['sans-serif'] not found. Falling back to DejaVu Sans\n",
            "  (prop.get_family(), self.defaultFamily[fontext]))\n"
          ],
          "name": "stderr"
        },
        {
          "output_type": "display_data",
          "data": {
            "image/png": "[encoded data removed]",
            "text/plain": [
              "<matplotlib.figure.Figure at 0x7f9cf7688f60>"
            ]
          },
          "metadata": {
            "tags": []
          }
        }
      ]
    },
    {
      "cell_type": "code",
      "metadata": {
        "id": "JVZaidQ6l6KB",
        "colab_type": "code",
        "outputId": "57da4987-89eb-4399-fb33-25188fba7c9a",
        "colab": {}
      },
      "source": [
        "def get_word_sequence_df(input_df):\n",
        "    \"\"\"Get new dataframe treating comma separate word tokens as sequences\"\"\"\n",
        "    df_for_viz = input_df.copy()\n",
        "    df_for_viz['words_in_df'] = input_df['sequence'].str.split(',')\n",
        "    df_for_viz['sequence_length'] = df_for_viz['words_in_df'].map(len)\n",
        "    return df_for_viz\n",
        "\n",
        "# Visualize sequence lengths by classes\n",
        "visualized_train_df = get_word_sequence_df(train_df)\n",
        "visualized_test_df = get_word_sequence_df(to_predict_test)\n",
        "kwaargs = dict(histtype='step', alpha=0.5, normed=True, bins=20, fill=False)\n",
        "classes_to_predict = np.sort(visualized_train_df['label'].unique())\n",
        "for label_value in classes_to_predict:\n",
        "    plt.hist(visualized_train_df['sequence_length'][visualized_train_df['label']==label_value].values, **kwaargs)\n",
        "    plt.title('Sequence Length by Classes in Training set')\n",
        "plt.show()\n",
        "\n",
        "# Visualize sequence lengths in test data\n",
        "plt.hist(visualized_test_df['sequence_length'].values, **kwaargs)\n",
        "plt.title('Distribution of Sequence Lengths in Testing set')\n",
        "plt.show()"
      ],
      "execution_count": 0,
      "outputs": [
        {
          "output_type": "stream",
          "text": [
            "/usr/local/envs/py3env/lib/python3.5/site-packages/matplotlib/font_manager.py:1320: UserWarning: findfont: Font family ['sans-serif'] not found. Falling back to DejaVu Sans\n",
            "  (prop.get_family(), self.defaultFamily[fontext]))\n"
          ],
          "name": "stderr"
        },
        {
          "output_type": "display_data",
          "data": {
            "image/png": "[encoded data removed]",
            "text/plain": [
              "<matplotlib.figure.Figure at 0x7f9d089ce5c0>"
            ]
          },
          "metadata": {
            "tags": []
          }
        },
        {
          "output_type": "display_data",
          "data": {
            "image/png": "[encoded data removed]",
            "text/plain": [
              "<matplotlib.figure.Figure at 0x7f9d14dcb630>"
            ]
          },
          "metadata": {
            "tags": []
          }
        }
      ]
    },
    {
      "cell_type": "code",
      "metadata": {
        "id": "gZsH5F95l6KE",
        "colab_type": "code",
        "outputId": "666c04c8-1d60-4f46-e9c8-721296a06706",
        "colab": {}
      },
      "source": [
        "# Bin sequence lengths by classes to better understand distribution in Training data\n",
        "bins = [50, 100, 150, 250]\n",
        "print('sequence lengths in Training data by classes:')\n",
        "visualized_train_df.groupby(['label', pd.cut(visualized_train_df['sequence_length'], bins)]).size().unstack()"
      ],
      "execution_count": 0,
      "outputs": [
        {
          "output_type": "stream",
          "text": [
            "sequence lengths in Training data by classes:\n"
          ],
          "name": "stdout"
        },
        {
          "output_type": "execute_result",
          "data": {
            "text/html": [
              "<div>\n",
              "<style scoped>\n",
              "    .dataframe tbody tr th:only-of-type {\n",
              "        vertical-align: middle;\n",
              "    }\n",
              "\n",
              "    .dataframe tbody tr th {\n",
              "        vertical-align: top;\n",
              "    }\n",
              "\n",
              "    .dataframe thead th {\n",
              "        text-align: right;\n",
              "    }\n",
              "</style>\n",
              "<table border=\"1\" class=\"dataframe\">\n",
              "  <thead>\n",
              "    <tr style=\"text-align: right;\">\n",
              "      <th>sequence_length</th>\n",
              "      <th>(50, 100]</th>\n",
              "      <th>(100, 150]</th>\n",
              "      <th>(150, 250]</th>\n",
              "    </tr>\n",
              "    <tr>\n",
              "      <th>label</th>\n",
              "      <th></th>\n",
              "      <th></th>\n",
              "      <th></th>\n",
              "    </tr>\n",
              "  </thead>\n",
              "  <tbody>\n",
              "    <tr>\n",
              "      <th>1</th>\n",
              "      <td>2618</td>\n",
              "      <td>19</td>\n",
              "      <td>2</td>\n",
              "    </tr>\n",
              "    <tr>\n",
              "      <th>2</th>\n",
              "      <td>3436</td>\n",
              "      <td>24</td>\n",
              "      <td>3</td>\n",
              "    </tr>\n",
              "    <tr>\n",
              "      <th>3</th>\n",
              "      <td>7146</td>\n",
              "      <td>32</td>\n",
              "      <td>5</td>\n",
              "    </tr>\n",
              "    <tr>\n",
              "      <th>4</th>\n",
              "      <td>2552</td>\n",
              "      <td>86</td>\n",
              "      <td>25</td>\n",
              "    </tr>\n",
              "  </tbody>\n",
              "</table>\n",
              "</div>"
            ],
            "text/plain": [
              "sequence_length  (50, 100]  (100, 150]  (150, 250]\n",
              "label                                             \n",
              "1                     2618          19           2\n",
              "2                     3436          24           3\n",
              "3                     7146          32           5\n",
              "4                     2552          86          25"
            ]
          },
          "metadata": {
            "tags": []
          },
          "execution_count": 68
        }
      ]
    },
    {
      "cell_type": "markdown",
      "metadata": {
        "id": "XRWvfegll6KG",
        "colab_type": "text"
      },
      "source": [
        "## Split labelled data into training and validation data set."
      ]
    },
    {
      "cell_type": "code",
      "metadata": {
        "id": "N480YkzDl6KH",
        "colab_type": "code",
        "colab": {}
      },
      "source": [
        "# Tokenize word sequences for training, validation and prediction\n",
        "all_sequences = train_df['sequence'].values\n",
        "# Convert word tokens in Sequence to sequence of integers\n",
        "tokenizer = Tokenizer(char_level=False)\n",
        "tokenizer.fit_on_texts(all_sequences)\n",
        "word_index = tokenizer.word_index\n",
        "X = tokenizer.texts_to_sequences(all_sequences)\n",
        "# Set max length based on previously visualized sequence distributions\n",
        "max_sequence_length = 120\n",
        "X = sequence.pad_sequences(X, maxlen=max_sequence_length)\n",
        "\n",
        "# Transform class labels to one-hot encodings\n",
        "lb = LabelBinarizer()\n",
        "Y = lb.fit_transform(train_df['label'])\n",
        "\n",
        "# Split training data into training and validation set\n",
        "X_training, X_validation, y_training, y_validation = train_test_split(X, Y, test_size=0.2, stratify = Y)"
      ],
      "execution_count": 0,
      "outputs": []
    },
    {
      "cell_type": "markdown",
      "metadata": {
        "id": "3xZs0UGql6KK",
        "colab_type": "text"
      },
      "source": [
        "## Build a prediction model from training data and predict on testing data."
      ]
    },
    {
      "cell_type": "code",
      "metadata": {
        "id": "0ccriSsbl6KK",
        "colab_type": "code",
        "colab": {}
      },
      "source": [
        "def evaluate_sequence_model(X_train, X_val, y_train, y_val):\n",
        "    \"\"\"Build and Evaluate CNN based model for classifying word sequences\"\"\"\n",
        "    embedding_dimension = 11\n",
        "    filter_sizes = (3,5,9,15,21)\n",
        "    conv_blocks = []\n",
        "    embedding_layer = Embedding(len(tokenizer.word_index)+1, embedding_dimension, input_length=max_sequence_length)\n",
        "    callbacks = [EarlyStopping(monitor='val_acc', verbose=1, patience=4)]\n",
        "    sequence_input = Input(shape=(max_sequence_length,), dtype='int32')\n",
        "    embedded_sequences = embedding_layer(sequence_input)\n",
        "    reshape = Dropout(0.1)(embedded_sequences)\n",
        "    # Add convolutional layer for each filter size\n",
        "    for size_val in filter_sizes:\n",
        "        conv = Conv1D(\n",
        "          filters=32,\n",
        "          kernel_size=size_val,\n",
        "          padding='valid',\n",
        "          activation='relu',\n",
        "          strides=1)(reshape)\n",
        "        conv = MaxPooling1D(pool_size=2)(conv)\n",
        "        conv = Flatten()(conv)\n",
        "        conv_blocks.append(conv)\n",
        "    merged = Concatenate()(conv_blocks)\n",
        "    dropout = Dropout(0.25)(merged)\n",
        "    normalize = BatchNormalization()(dropout)\n",
        "    output = Dense(256, activation='relu')(normalize)\n",
        "    normalized_output = BatchNormalization()(output)\n",
        "    predictions = Dense(4, activation='softmax')(normalized_output)\n",
        "    model = Model(sequence_input, predictions)\n",
        "    model.compile(loss='categorical_crossentropy', optimizer='adam', metrics=['accuracy'])\n",
        "    model.save_weights('model.h5')\n",
        "    model.fit(X_train, y_train,  batch_size=64, verbose=0, validation_split=0.15,callbacks=callbacks,epochs=30)\n",
        "    _, validation_accuracy = model.evaluate(X_val, y_val, verbose = 1)\n",
        "    return model, validation_accuracy"
      ],
      "execution_count": 0,
      "outputs": []
    },
    {
      "cell_type": "code",
      "metadata": {
        "id": "z-vG3Rk6l6KN",
        "colab_type": "code",
        "outputId": "3abefbfd-1669-4dcf-df00-b1e619be2bd8",
        "colab": {}
      },
      "source": [
        "final_model, final_validation_accuracy = evaluate_sequence_model(X_training, X_validation, y_training, y_validation)"
      ],
      "execution_count": 0,
      "outputs": [
        {
          "output_type": "stream",
          "text": [
            "/usr/local/envs/py3env/lib/python3.5/site-packages/tensorflow/python/util/tf_inspect.py:55: DeprecationWarning: inspect.getargspec() is deprecated, use inspect.signature() instead\n",
            "  if d.decorator_argspec is not None), _inspect.getargspec(target))\n"
          ],
          "name": "stderr"
        },
        {
          "output_type": "stream",
          "text": [
            "Epoch 00006: early stopping\n",
            "12756/12756 [==============================] - 4s 302us/step\n"
          ],
          "name": "stdout"
        }
      ]
    },
    {
      "cell_type": "code",
      "metadata": {
        "id": "h1Ncyst5l6KQ",
        "colab_type": "code",
        "outputId": "fbdabb3f-ac4b-43a3-a788-25305ff0bb83",
        "colab": {}
      },
      "source": [
        "def show_model_performance(trained_model, training_sequences, validation_sequences, actual_training_labels, actual_validation_labels):\n",
        "  \"\"\"Show model performance on validation set, plot confusion matrix and classification report with F1 score\"\"\"\n",
        "  predictions_on_training = trained_model.predict(training_sequences)\n",
        "  predictions_on_validation_set = trained_model.predict(validation_sequences)\n",
        "  print('training accuracy = {}'.format(accuracy_score(np.argmax(actual_training_labels, axis=1), \n",
        "                                                       np.argmax(predictions_on_training, axis=1))))\n",
        "  ground_truth_for_validation = np.argmax(actual_validation_labels, axis=1)\n",
        "  predictions_for_validation = np.argmax(predictions_on_validation_set, axis=1)   \n",
        "  print('validation accuracy = {}'.format(accuracy_score(ground_truth_for_validation, \n",
        "                                              predictions_for_validation)))\n",
        "  # Plot confusion matrix\n",
        "  cm = confusion_matrix(ground_truth_for_validation, predictions_for_validation)\n",
        "  cm = cm.astype('float')/cm.sum(axis=1)[:, np.newaxis]\n",
        "  np.set_printoptions(precision=2)\n",
        "  plt.figure(figsize=(8,8))\n",
        "  plt.imshow(cm, interpolation='nearest', cmap=plt.cm.Blues)\n",
        "  plt.title('Confusion matrix')\n",
        "  plt.colorbar()\n",
        "  tick_marks = np.arange(len(classes_to_predict))\n",
        "  plt.xticks(tick_marks, classes_to_predict, rotation=90)\n",
        "  plt.yticks(tick_marks, classes_to_predict)\n",
        "  plt.ylabel('True label')\n",
        "  plt.xlabel('Predicted label')\n",
        "  plt.show()\n",
        "  print(classification_report(ground_truth_for_validation, predictions_for_validation))\n",
        "\n",
        "# Show validation accuracy, confusion matrix and classification report\n",
        "show_model_performance(final_model, X_training, X_validation, y_training, y_validation)"
      ],
      "execution_count": 0,
      "outputs": [
        {
          "output_type": "stream",
          "text": [
            "training accuracy = 0.9804782438259506\n",
            "validation accuracy = 0.8947162119786767\n"
          ],
          "name": "stdout"
        },
        {
          "output_type": "stream",
          "text": [
            "/usr/local/envs/py3env/lib/python3.5/site-packages/matplotlib/font_manager.py:1320: UserWarning: findfont: Font family ['sans-serif'] not found. Falling back to DejaVu Sans\n",
            "  (prop.get_family(), self.defaultFamily[fontext]))\n"
          ],
          "name": "stderr"
        },
        {
          "output_type": "display_data",
          "data": {
            "image/png": "[encoded data removed]",
            "text/plain": [
              "<matplotlib.figure.Figure at 0x7f9cf4f57c18>"
            ]
          },
          "metadata": {
            "tags": []
          }
        },
        {
          "output_type": "stream",
          "text": [
            "             precision    recall  f1-score   support\n",
            "\n",
            "          0       0.88      0.84      0.86      1914\n",
            "          1       0.95      0.95      0.95      2935\n",
            "          2       0.91      0.92      0.91      5739\n",
            "          3       0.79      0.80      0.80      2168\n",
            "\n",
            "avg / total       0.89      0.89      0.89     12756\n",
            "\n"
          ],
          "name": "stdout"
        }
      ]
    },
    {
      "cell_type": "code",
      "metadata": {
        "id": "VgYKAWyEl6KS",
        "colab_type": "code",
        "outputId": "382aae11-40a2-498f-90c8-b1c257636451",
        "colab": {
          "base_uri": "https://localhost:8080/",
          "height": 237
        }
      },
      "source": [
        "def get_model_predictions(trained_model, sequence_df_to_predict):\n",
        "  \"\"\"Get Predictions on Test Data based on trained input model\"\"\"\n",
        "  predict_on_test = tokenizer.texts_to_sequences(sequence_df_to_predict['sequence'].values)\n",
        "  predict_on_test = sequence.pad_sequences(predict_on_test, maxlen=max_sequence_length)\n",
        "  return np.argmax(trained_model.predict(predict_on_test), axis=1)\n",
        "\n",
        "# Get prediction results on test data\n",
        "to_predict_test['label'] = get_model_predictions(final_model,to_predict_test)\n",
        "# Append back rows that were already tagged\n",
        "to_predict_test.append(already_tagged_test)\n",
        "# reindex based on original raw test data\n",
        "to_predict_test = to_predict_test.set_index('sequence')\n",
        "to_predict_test = to_predict_test.reindex(index=test_df['sequence'])\n",
        "output_df = to_predict_test.reset_index()\n",
        "# Export final prediction output to tsv\n",
        "output_df.to_csv('output_sanjayarumugam.tsv', sep = '\\t')"
      ],
      "execution_count": 0,
      "outputs": [
        {
          "output_type": "error",
          "ename": "NameError",
          "evalue": "ignored",
          "traceback": [
            "\u001b[0;31m---------------------------------------------------------------------------\u001b[0m",
            "\u001b[0;31mNameError\u001b[0m                                 Traceback (most recent call last)",
            "\u001b[0;32m<ipython-input-1-890ea44c1907>\u001b[0m in \u001b[0;36m<module>\u001b[0;34m()\u001b[0m\n\u001b[1;32m      6\u001b[0m \u001b[0;34m\u001b[0m\u001b[0m\n\u001b[1;32m      7\u001b[0m \u001b[0;31m# Get prediction results on test data\u001b[0m\u001b[0;34m\u001b[0m\u001b[0;34m\u001b[0m\u001b[0;34m\u001b[0m\u001b[0m\n\u001b[0;32m----> 8\u001b[0;31m \u001b[0mto_predict_test\u001b[0m\u001b[0;34m[\u001b[0m\u001b[0;34m'label'\u001b[0m\u001b[0;34m]\u001b[0m \u001b[0;34m=\u001b[0m \u001b[0mget_model_predictions\u001b[0m\u001b[0;34m(\u001b[0m\u001b[0mfinal_model\u001b[0m\u001b[0;34m,\u001b[0m\u001b[0mto_predict_test\u001b[0m\u001b[0;34m)\u001b[0m\u001b[0;34m\u001b[0m\u001b[0;34m\u001b[0m\u001b[0m\n\u001b[0m\u001b[1;32m      9\u001b[0m \u001b[0;31m# Append back rows that were already tagged\u001b[0m\u001b[0;34m\u001b[0m\u001b[0;34m\u001b[0m\u001b[0;34m\u001b[0m\u001b[0m\n\u001b[1;32m     10\u001b[0m \u001b[0mto_predict_test\u001b[0m\u001b[0;34m.\u001b[0m\u001b[0mappend\u001b[0m\u001b[0;34m(\u001b[0m\u001b[0malready_tagged_test\u001b[0m\u001b[0;34m)\u001b[0m\u001b[0;34m\u001b[0m\u001b[0;34m\u001b[0m\u001b[0m\n",
            "\u001b[0;31mNameError\u001b[0m: name 'final_model' is not defined"
          ]
        }
      ]
    },
    {
      "cell_type": "markdown",
      "metadata": {
        "id": "4pF7Ej09l6KU",
        "colab_type": "text"
      },
      "source": [
        "## Comments\n"
      ]
    },
    {
      "cell_type": "markdown",
      "metadata": {
        "id": "il3Vioyyl6KV",
        "colab_type": "text"
      },
      "source": [
        "In the initial training data, we saw imbalance between the different classes. \n",
        "> The f1-score is thus a good metric to evaluate model performance on this classification task.\n",
        "\n",
        "The current model scored the highest f1-score on predicting for class 2. \n",
        "We also gather that instances of misclassifications are mostly between classes 1,3 and 4. \n",
        "\n",
        "To maximize f1-score across different classes, we can:\n",
        "1. Use hyperparameter optimization to tweak parameters like: embedding dimensions and batch size. \n",
        "2. During EDA, there were no word tokens found common across different classes that could be assumed and dropped as stopwords. \n",
        "   However, word tokens common between pairs of classes can be dropped and model evaluation can be repeated to compare performance. \n",
        "3. The current representation of word tokens is a sequence of integers. A better representation of embeddings would be more contextually aware to represent the semantic differences between different classes. Pretraining embeddings from the training data based on different classes can help improve on the results. \n",
        "4. Implement K-fold cross validation on model training and evaluation. "
      ]
    }
  ]
}